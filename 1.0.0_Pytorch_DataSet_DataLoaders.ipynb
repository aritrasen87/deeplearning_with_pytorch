{
 "cells": [
  {
   "attachments": {},
   "cell_type": "markdown",
   "metadata": {},
   "source": [
    "### Pytorch Dataset and Dataloaders:\n",
    "\n",
    "- We ideally want our dataset preparation code to be decoupled from our model training code for better readability and modularity. \n",
    "\n",
    "- PyTorch provides two data primitives which helps us to do this with ease:\n",
    " \n",
    "    - torch.utils.data.DataLoader \n",
    "    - torch.utils.data.Dataset\n",
    "\n",
    "What is Dataset?\n",
    "\n",
    "- <b>Dataset</b> stores the samples and their corresponding labels (optionally)\n",
    "\n",
    "What is DataLoader?\n",
    "\n",
    "- <b>DataLoader</b> wraps an iterable around the Dataset to enable easy access to the samples."
   ]
  },
  {
   "cell_type": "code",
   "execution_count": 53,
   "metadata": {},
   "outputs": [],
   "source": [
    "import torch\n",
    "from torch.utils.data import DataLoader , Dataset , TensorDataset"
   ]
  },
  {
   "cell_type": "code",
   "execution_count": 54,
   "metadata": {},
   "outputs": [],
   "source": [
    "x = torch.arange(12,dtype=torch.float16)"
   ]
  },
  {
   "cell_type": "code",
   "execution_count": 55,
   "metadata": {},
   "outputs": [
    {
     "data": {
      "text/plain": [
       "tensor([ 0.,  1.,  2.,  3.,  4.,  5.,  6.,  7.,  8.,  9., 10., 11.],\n",
       "       dtype=torch.float16)"
      ]
     },
     "execution_count": 55,
     "metadata": {},
     "output_type": "execute_result"
    }
   ],
   "source": [
    "x"
   ]
  },
  {
   "attachments": {},
   "cell_type": "markdown",
   "metadata": {},
   "source": [
    "DataLoader returns in iterator , which we can use to iterate through the indivisual examples in the dataset."
   ]
  },
  {
   "cell_type": "code",
   "execution_count": 65,
   "metadata": {},
   "outputs": [],
   "source": [
    "data_loader = DataLoader(x)"
   ]
  },
  {
   "cell_type": "code",
   "execution_count": 66,
   "metadata": {},
   "outputs": [
    {
     "name": "stdout",
     "output_type": "stream",
     "text": [
      "tensor([0.], dtype=torch.float16)\n",
      "tensor([1.], dtype=torch.float16)\n",
      "tensor([2.], dtype=torch.float16)\n",
      "tensor([3.], dtype=torch.float16)\n",
      "tensor([4.], dtype=torch.float16)\n",
      "tensor([5.], dtype=torch.float16)\n",
      "tensor([6.], dtype=torch.float16)\n",
      "tensor([7.], dtype=torch.float16)\n",
      "tensor([8.], dtype=torch.float16)\n",
      "tensor([9.], dtype=torch.float16)\n",
      "tensor([10.], dtype=torch.float16)\n",
      "tensor([11.], dtype=torch.float16)\n"
     ]
    }
   ],
   "source": [
    "for item in data_loader:\n",
    "    print(item)"
   ]
  },
  {
   "attachments": {},
   "cell_type": "markdown",
   "metadata": {},
   "source": [
    "### Creating batches of data"
   ]
  },
  {
   "cell_type": "code",
   "execution_count": 58,
   "metadata": {},
   "outputs": [],
   "source": [
    "data_loader = DataLoader(x,batch_size=4,shuffle=True)"
   ]
  },
  {
   "cell_type": "code",
   "execution_count": 59,
   "metadata": {},
   "outputs": [
    {
     "name": "stdout",
     "output_type": "stream",
     "text": [
      "Batch : 0 tensor([6., 2., 1., 7.], dtype=torch.float16)\n",
      "Batch : 1 tensor([ 9.,  5.,  8., 11.], dtype=torch.float16)\n",
      "Batch : 2 tensor([10.,  0.,  3.,  4.], dtype=torch.float16)\n"
     ]
    }
   ],
   "source": [
    "for i , batch in enumerate(data_loader):\n",
    "    print(f'Batch : {i}', batch)"
   ]
  },
  {
   "attachments": {},
   "cell_type": "markdown",
   "metadata": {},
   "source": [
    "### creating batches of data with input(X) and target(y) "
   ]
  },
  {
   "cell_type": "code",
   "execution_count": 60,
   "metadata": {},
   "outputs": [],
   "source": [
    "from sklearn.datasets import make_classification\n",
    "X,y = make_classification(n_samples=10)"
   ]
  },
  {
   "cell_type": "code",
   "execution_count": 67,
   "metadata": {},
   "outputs": [
    {
     "data": {
      "text/plain": [
       "((10, 20), (10,))"
      ]
     },
     "execution_count": 67,
     "metadata": {},
     "output_type": "execute_result"
    }
   ],
   "source": [
    "X.shape , y.shape"
   ]
  },
  {
   "cell_type": "code",
   "execution_count": 69,
   "metadata": {},
   "outputs": [],
   "source": [
    "dataset = TensorDataset( torch.Tensor(X), torch.Tensor(y)) ## combine X and Y into a dataset"
   ]
  },
  {
   "cell_type": "code",
   "execution_count": 70,
   "metadata": {},
   "outputs": [],
   "source": [
    "data_loader = DataLoader(dataset, batch_size= 5)"
   ]
  },
  {
   "cell_type": "code",
   "execution_count": 71,
   "metadata": {},
   "outputs": [
    {
     "name": "stdout",
     "output_type": "stream",
     "text": [
      "Batch: 0 \n",
      " X: tensor([[-0.4712,  1.0072, -0.1915, -0.4781,  0.3216, -0.3398, -0.3595, -1.1020,\n",
      "         -1.3714, -0.2125, -0.1812, -0.0144,  1.1197,  2.1346,  0.9589, -0.2670,\n",
      "          0.3318,  0.5929,  0.4351,  0.3562],\n",
      "        [ 0.0534,  1.3810, -1.5928,  1.1625, -0.9294, -0.0450,  0.0813, -1.3332,\n",
      "         -0.2898,  0.7793,  0.0826, -0.1925, -0.0047, -1.4658, -1.5462,  0.1317,\n",
      "          0.2949,  0.0969, -0.5668, -0.1134],\n",
      "        [ 0.9616,  2.2366,  0.9620,  1.4451, -1.4860, -0.3851,  1.7846,  2.8822,\n",
      "         -0.5535, -1.1474,  0.0163,  0.7611,  2.6891,  0.3897,  1.6439, -2.6112,\n",
      "         -0.5665, -1.4221,  3.3794, -1.5652],\n",
      "        [ 0.6341,  0.9544,  0.0150,  2.6025,  0.4379, -0.5392,  0.1105, -0.9531,\n",
      "         -1.8435, -0.5067,  0.5749,  0.0611,  1.5391,  0.9683,  0.7006,  0.2990,\n",
      "          0.8367,  0.9405,  0.8352, -0.2220],\n",
      "        [ 0.7500, -0.4814, -0.4454,  0.2543, -1.3657, -0.8532, -1.2005, -1.0224,\n",
      "         -0.2191, -0.2908,  1.5124, -0.1360,  0.0861,  0.1592, -0.6450, -0.3316,\n",
      "          0.5794, -0.6023, -0.3625,  0.5514]]) , \n",
      " y: tensor([1., 0., 1., 1., 0.])\n",
      "Batch: 1 \n",
      " X: tensor([[-0.3316, -1.2870,  0.8969,  0.8945,  0.3572, -0.1574, -1.2842, -1.1003,\n",
      "          0.0485, -0.9267, -0.4161,  0.2315,  3.0267,  0.3267, -0.3006, -2.0644,\n",
      "          0.6545,  0.1076,  1.9692,  2.0527],\n",
      "        [ 0.9538,  1.8873,  0.0131,  0.0544,  0.6198, -2.5064, -0.5832,  1.9759,\n",
      "         -1.0705, -0.5416,  0.7939,  0.0445, -1.8622,  0.3395,  1.6838,  0.5757,\n",
      "         -0.8506,  0.2054, -0.6630,  0.6232],\n",
      "        [ 0.9279, -0.1942, -0.6389,  0.0806,  1.4135,  0.3058,  1.0738,  1.6728,\n",
      "         -0.3445,  1.0168, -1.6359,  0.4378,  1.5301, -0.2335, -0.2865,  1.4912,\n",
      "          1.2086, -2.1954,  1.9367, -0.3122],\n",
      "        [ 0.6833,  0.5091,  0.6618,  1.4715,  0.0916, -0.3646, -0.6430,  1.1881,\n",
      "         -0.8207,  0.3653, -0.0648,  0.0708, -0.7778,  0.5697,  0.7271,  0.2763,\n",
      "         -0.8649,  1.5313, -0.1237, -1.1530],\n",
      "        [-1.3943,  1.1426, -0.6412,  1.6115, -1.0164,  0.1168,  0.2622, -2.1586,\n",
      "          1.2617, -0.5983, -0.7200, -0.2760,  0.2687,  0.7526, -0.3259,  0.0669,\n",
      "          0.2265, -1.1721, -0.6955, -2.5227]]) , \n",
      " y: tensor([1., 0., 1., 0., 0.])\n"
     ]
    }
   ],
   "source": [
    "for i ,batch in enumerate(data_loader):\n",
    "    print(f'Batch: {i} \\n X: {batch[0]} , \\n y: {batch[1]}')"
   ]
  },
  {
   "attachments": {},
   "cell_type": "markdown",
   "metadata": {},
   "source": [
    "### Custom Dataset class\n",
    "The reason you may want to use Custom Dataset class:\n",
    " - There are some special handling before you can get the data sample. \n",
    " - Data should be read from database or disk and you only want to keep a few samples in memory rather than prefetch everything. \n",
    " - Do augmentation that is common in image tasks.\n",
    "\n",
    "In PyTorch DataLoader expects its first argument can work with len() and with array index."
   ]
  },
  {
   "cell_type": "code",
   "execution_count": 47,
   "metadata": {},
   "outputs": [],
   "source": [
    "class CustomDataset(Dataset):\n",
    "    def __init__(self, X, y):\n",
    "        # convert into PyTorch tensors\n",
    "        self.X = torch.tensor(X, dtype=torch.float16)\n",
    "        self.y = torch.tensor(y, dtype=torch.float16)\n",
    " \n",
    "    def __len__(self):\n",
    "        # this should return the size of the dataset\n",
    "        return len(self.X)\n",
    " \n",
    "    def __getitem__(self, idx):\n",
    "        # this should return one sample from the dataset and return X and y in pairs\n",
    "        features = self.X[idx]\n",
    "        target = self.y[idx]\n",
    "        return features, target"
   ]
  },
  {
   "cell_type": "code",
   "execution_count": 48,
   "metadata": {},
   "outputs": [],
   "source": [
    "# set up DataLoader using custom Dataset class\n",
    "dataset = CustomDataset(X, y)\n",
    "data_loader = DataLoader(dataset, shuffle=True, batch_size=5)"
   ]
  },
  {
   "cell_type": "code",
   "execution_count": 49,
   "metadata": {},
   "outputs": [
    {
     "name": "stdout",
     "output_type": "stream",
     "text": [
      "Batch: 0 \n",
      " X: tensor([[-1.5010, -2.0703,  0.3979, -2.5938, -0.5840,  0.4141,  0.3630,  0.2273,\n",
      "         -0.1897,  1.5000,  1.4629,  1.1270, -0.7510, -0.4087, -1.9150, -0.2410,\n",
      "          0.6543,  0.6611,  0.1081,  0.6118],\n",
      "        [-0.4355, -0.2539, -0.1873,  1.1973,  1.3535, -0.0685, -0.0800, -2.4082,\n",
      "         -1.9092,  0.5386,  0.3604, -0.1027,  0.2064,  1.0098,  1.1152,  0.3284,\n",
      "         -0.5991, -1.1025, -0.5576,  0.1531],\n",
      "        [ 0.8950,  1.2412,  0.9756,  0.9302, -0.7598, -0.9756,  0.2666,  0.6006,\n",
      "          0.7017, -0.7534, -0.9595, -0.6294, -0.5112, -1.2471,  0.3879,  1.4053,\n",
      "          1.1123, -0.8330, -1.0215, -0.3982],\n",
      "        [ 0.3157,  0.5942,  1.0068,  0.2452,  0.0422,  0.0092, -0.6616,  0.5718,\n",
      "         -0.0480,  1.3467, -1.3418, -0.3171, -0.7725,  2.3457,  0.7930,  1.0645,\n",
      "          0.2957, -0.9629,  1.1211, -0.5234],\n",
      "        [-0.3806,  0.8228, -0.4451,  1.8955,  1.2881, -0.3262, -0.7075,  2.2871,\n",
      "          0.5083,  0.5308,  0.2773, -0.3442, -0.5596, -0.1313,  0.6572, -0.6953,\n",
      "         -0.4729, -0.6948, -0.9136,  0.1195]], dtype=torch.float16) , \n",
      " y: tensor([1., 1., 0., 0., 1.], dtype=torch.float16)\n",
      "Batch: 1 \n",
      " X: tensor([[ 0.1161, -0.7354, -1.0205,  1.1035,  1.1377, -0.1184,  1.7275,  0.1191,\n",
      "          0.8770, -2.4141,  1.3164, -0.2125, -1.0166,  0.2048, -0.0421,  1.2314,\n",
      "          1.0781,  0.3259, -0.7339,  0.4985],\n",
      "        [ 1.5186, -0.5991,  1.3555,  0.7041,  0.5962, -0.1295, -1.8096,  0.0053,\n",
      "          0.9854, -0.8354, -1.9043, -0.8901,  0.5044,  2.8281,  0.7573, -1.5625,\n",
      "         -0.6338, -0.2330, -0.0452, -0.7812],\n",
      "        [ 0.0698,  0.0038,  0.2979,  0.7261,  0.8379,  0.7402,  1.5332, -1.4727,\n",
      "         -0.4214,  0.2491, -0.2664,  1.5195, -0.4514,  0.8008, -1.5771, -0.3210,\n",
      "         -0.5562, -0.5151, -1.0723, -0.1042],\n",
      "        [ 0.5430, -0.0992, -0.5566, -0.2180,  1.4893, -0.2098,  0.0726,  1.0605,\n",
      "         -0.8325, -0.2849, -0.6895, -2.1074,  1.1006,  1.5137,  2.8770,  0.1666,\n",
      "         -0.2986, -0.4939, -0.0656, -0.2827],\n",
      "        [ 2.2051,  0.8921, -1.1475,  0.4077, -0.8252, -0.0856, -0.1194,  0.1316,\n",
      "         -0.6689, -1.2480, -2.7441,  0.3574, -0.8428,  1.3809,  1.0732, -1.7422,\n",
      "          1.0947,  1.2939,  0.1897, -1.1270]], dtype=torch.float16) , \n",
      " y: tensor([1., 0., 0., 1., 0.], dtype=torch.float16)\n"
     ]
    }
   ],
   "source": [
    "for i ,batch in enumerate(data_loader):\n",
    "    print(f'Batch: {i} \\n X: {batch[0]} , \\n y: {batch[1]}')"
   ]
  }
 ],
 "metadata": {
  "kernelspec": {
   "display_name": "Python 3",
   "language": "python",
   "name": "python3"
  },
  "language_info": {
   "codemirror_mode": {
    "name": "ipython",
    "version": 3
   },
   "file_extension": ".py",
   "mimetype": "text/x-python",
   "name": "python",
   "nbconvert_exporter": "python",
   "pygments_lexer": "ipython3",
   "version": "3.10.11"
  },
  "orig_nbformat": 4,
  "vscode": {
   "interpreter": {
    "hash": "1758999f029eddf959a1186ac4cb199870fecf5394707e39dfa8e19edac1c51d"
   }
  }
 },
 "nbformat": 4,
 "nbformat_minor": 2
}
